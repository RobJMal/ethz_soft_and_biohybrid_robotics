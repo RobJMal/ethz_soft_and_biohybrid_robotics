{
  "cells": [
    {
      "cell_type": "code",
      "execution_count": 1,
      "metadata": {
        "id": "k5zVQlyVLwrl"
      },
      "outputs": [],
      "source": [
        "import numpy as np\n",
        "import matplotlib.pyplot as plt\n",
        "import copy"
      ]
    },
    {
      "cell_type": "markdown",
      "metadata": {},
      "source": [
        "$$\n",
        "E(x) = (x_{0} + x_{1} - 2)^{2} + x_{0}^{2} + x_{0}^4\n",
        "$$\n",
        "\n",
        "$$\n",
        "\\nabla E(x) = \n",
        "\\begin{bmatrix}\n",
        "\\frac{\\partial E}{\\partial x_{0}} \\\\\n",
        "\\frac{\\partial E}{\\partial x_{1}}\n",
        "\\end{bmatrix}\n",
        "= \n",
        "\\begin{bmatrix}\n",
        "4x_{0}^{3} + 2x_{0} + 2(x_{0} + x_{1} - 2) \\\\\n",
        "2(x_{0} + x_{1} - 2)\n",
        "\\end{bmatrix}\n",
        "$$\n",
        "\n",
        "$$\n",
        "H(x) = \n",
        "\\begin{bmatrix}\n",
        "\\frac{\\partial^{2} E}{\\partial x_{0}^2} & \\frac{\\partial^{2} E}{\\partial x_{0}x_{1}} \\\\\n",
        "\\frac{\\partial^{2} E}{\\partial x_{1}x_{0}} & \\frac{\\partial^{2} E}{\\partial^{2} x_{1}^2}\n",
        "\\end{bmatrix}\n",
        "= \n",
        "\\begin{bmatrix}\n",
        "12x_{0}^{2} + 4 & 2 \\\\\n",
        "2 & 2\n",
        "\\end{bmatrix}\n",
        "$$"
      ]
    },
    {
      "cell_type": "code",
      "execution_count": 2,
      "metadata": {
        "id": "VISMJpjAL0DV"
      },
      "outputs": [],
      "source": [
        "### We define the energy function and its corresponding gradient and hessian functions.\n",
        "def energy (x):\n",
        "  return (x[0] + x[1] - 2)**2 + x[0]**2 + x[0]**4\n",
        "\n",
        "def gradient (x):\n",
        "  return np.array([\n",
        "      4*x[0]**3 + 2*x[0] + 2*(x[0]+x[1]-2),\n",
        "      2*(x[0]+x[1]-2)\n",
        "    ])\n",
        "\n",
        "def hessian (x):\n",
        "  return np.array([\n",
        "      [12*x[0]**2 + 4, 2],\n",
        "      [2, 2]\n",
        "  ])"
      ]
    },
    {
      "cell_type": "code",
      "execution_count": 3,
      "metadata": {
        "colab": {
          "base_uri": "https://localhost:8080/",
          "height": 452
        },
        "id": "4bRwASnKXo_y",
        "outputId": "73239fd5-d882-459e-8321-5f7be96bef1f"
      },
      "outputs": [
        {
          "data": {
            "text/plain": [
              "<matplotlib.colorbar.Colorbar at 0x7ae55ca65d00>"
            ]
          },
          "execution_count": 3,
          "metadata": {},
          "output_type": "execute_result"
        },
        {
          "data": {
            "image/png": "[encoded data removed]",
            "text/plain": [
              "<Figure size 432x288 with 2 Axes>"
            ]
          },
          "metadata": {
            "needs_background": "light"
          },
          "output_type": "display_data"
        }
      ],
      "source": [
        "### We can visualize this energy function by sampling a few points and evaluating the energy function at these points\n",
        "N = 20\n",
        "X, Y = np.meshgrid(np.linspace(-5, 5, N), np.linspace(-5, 5, N))\n",
        "x = np.stack([X.flatten(), Y.flatten()], axis=0)\n",
        "\n",
        "# plt.tricontourf(x[0], x[1], np.minimum(energy(x), 100), levels=10)\n",
        "plt.tricontourf(x[0], x[1], energy(x), levels=50)\n",
        "plt.colorbar()"
      ]
    },
    {
      "cell_type": "code",
      "execution_count": 5,
      "metadata": {
        "colab": {
          "base_uri": "https://localhost:8080/"
        },
        "id": "U5kmwIKlXsXN",
        "outputId": "62d77c89-75d5-44f0-8b3e-03e1a0ab9053"
      },
      "outputs": [
        {
          "name": "stdout",
          "output_type": "stream",
          "text": [
            "Current x: [3.0000, -2.0000]\n",
            "Current x: [1.9636, 0.0364]\n",
            "Current x: [1.2549, 0.7451]\n",
            "Current x: [0.7565, 1.2435]\n",
            "Current x: [0.3906, 1.6094]\n",
            "Current x: [0.1244, 1.8756]\n",
            "Current x: [0.0071, 1.9929]\n",
            "Current x: [0.0000, 2.0000]\n",
            "Current x: [0.0000, 2.0000]\n",
            "Tolerance reached dx: 1.5611e-17\n",
            "Final x: [0. 2.]\n"
          ]
        }
      ],
      "source": [
        "### Newton iteration\n",
        "initialGuess = np.array([3., -2.]) # np.random.rand(2)\n",
        "x = initialGuess\n",
        "xHist = [copy.copy(x)]\n",
        "\n",
        "MAX_ITER = 100\n",
        "for i in range(MAX_ITER):\n",
        "  print(f\"Current x: [{x[0]:.4f}, {x[1]:.4f}]\")\n",
        "\n",
        "  H = hessian(x)\n",
        "  J = gradient(x)\n",
        "  dx = -np.linalg.inv(H) @ J\n",
        "  x += dx\n",
        "\n",
        "  xHist.append(copy.copy(x))\n",
        "\n",
        "  if np.linalg.norm(dx) < 1e-15:\n",
        "    print(f\"Tolerance reached dx: {np.linalg.norm(dx):.4e}\")\n",
        "    break\n",
        "\n",
        "print(f\"Final x: {x}\")\n",
        "xHist = np.stack(xHist)"
      ]
    },
    {
      "cell_type": "code",
      "execution_count": 6,
      "metadata": {
        "colab": {
          "base_uri": "https://localhost:8080/",
          "height": 472
        },
        "id": "5ybpJMhnhlQi",
        "outputId": "3c571118-8a8f-4eb6-ee76-862cd433bfec"
      },
      "outputs": [
        {
          "data": {
            "text/plain": [
              "<matplotlib.colorbar.Colorbar at 0x7ae55bb49160>"
            ]
          },
          "execution_count": 6,
          "metadata": {},
          "output_type": "execute_result"
        },
        {
          "data": {
            "image/png": "[encoded data removed]",
            "text/plain": [
              "<Figure size 432x288 with 2 Axes>"
            ]
          },
          "metadata": {
            "needs_background": "light"
          },
          "output_type": "display_data"
        }
      ],
      "source": [
        "### We can visualize this energy function by sampling a few points and evaluating the energy function at these points\n",
        "N = 20\n",
        "X, Y = np.meshgrid(np.linspace(-2, 4, N), np.linspace(-3, 5, N))\n",
        "x = np.stack([X.flatten(), Y.flatten()], axis=0)\n",
        "\n",
        "plt.tricontourf(x[0], x[1], energy(x), levels=100)\n",
        "# plt.scatter(xHist[:,0], xHist[:,1])\n",
        "plt.plot(xHist[:,0], xHist[:,1], marker='o', markersize=5, linestyle='--', c='r')\n",
        "plt.xlabel(\"X0\")\n",
        "plt.ylabel(\"X1\")\n",
        "plt.colorbar()"
      ]
    },
    {
      "cell_type": "code",
      "execution_count": null,
      "metadata": {
        "id": "dbhOiDxFpCJZ"
      },
      "outputs": [],
      "source": []
    }
  ],
  "metadata": {
    "colab": {
      "provenance": []
    },
    "kernelspec": {
      "display_name": "Python 3",
      "name": "python3"
    },
    "language_info": {
      "codemirror_mode": {
        "name": "ipython",
        "version": 3
      },
      "file_extension": ".py",
      "mimetype": "text/x-python",
      "name": "python",
      "nbconvert_exporter": "python",
      "pygments_lexer": "ipython3",
      "version": "3.9.12"
    }
  },
  "nbformat": 4,
  "nbformat_minor": 0
}
